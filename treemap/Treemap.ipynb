{
 "cells": [
  {
   "cell_type": "code",
   "execution_count": 1,
   "metadata": {},
   "outputs": [],
   "source": [
    "from IPython.display import display, Javascript, HTML\n",
    "from random import random\n",
    "import numpy as np\n",
    "import json"
   ]
  },
  {
   "cell_type": "code",
   "execution_count": 2,
   "metadata": {},
   "outputs": [],
   "source": [
    "height = 1200\n",
    "width = 960"
   ]
  },
  {
   "cell_type": "code",
   "execution_count": 3,
   "metadata": {},
   "outputs": [],
   "source": [
    "data =  {\n",
    "    'name': 'vis',\n",
    "    'children': [\n",
    "        {'name': 'axis',\n",
    "         'children': [\n",
    "              {'name': 'Axes', 'size': 1302},\n",
    "              {'name': 'Axis', 'size': 24593},\n",
    "              {'name': 'AxisGridLine', 'size': 652},\n",
    "              {'name': 'AxisLabel', 'size': 636},\n",
    "              {'name': 'CartesianAxes', 'size': 6703}]},\n",
    "        {'name': 'controls',\n",
    "         'children': [\n",
    "              {'name': 'AnchorControl', 'size': 2138},\n",
    "              {'name': 'ClickControl', 'size': 3824},\n",
    "              {'name': 'Control', 'size': 1353},\n",
    "              {'name': 'ControlList', 'size': 4665},\n",
    "              {'name': 'DragControl', 'size': 2649},\n",
    "              {'name': 'ExpandControl', 'size': 2832},\n",
    "              {'name': 'HoverControl', 'size': 4896},\n",
    "              {'name': 'IControl', 'size': 763},\n",
    "              {'name': 'PanZoomControl', 'size': 5222},\n",
    "              {'name': 'SelectionControl', 'size': 7862},\n",
    "              {'name': 'TooltipControl', 'size': 8435}]},\n",
    "        {'name': 'data',\n",
    "         'children': [\n",
    "              {'name': 'Data', 'size': 20544},\n",
    "              {'name': 'DataList', 'size': 19788},\n",
    "              {'name': 'DataSprite', 'size': 10349},\n",
    "              {'name': 'EdgeSprite', 'size': 3301},\n",
    "              {'name': 'NodeSprite', 'size': 19382},\n",
    "              {'name': 'render',\n",
    "               'children': [\n",
    "                   {'name': 'ArrowType', 'size': 698},\n",
    "                   {'name': 'EdgeRenderer', 'size': 5569},\n",
    "                   {'name': 'IRenderer', 'size': 353},\n",
    "                   {'name': 'ShapeRenderer', 'size': 2247}]},\n",
    "              {'name': 'ScaleBinding', 'size': 11275},\n",
    "              {'name': 'Tree', 'size': 7147},\n",
    "              {'name': 'TreeBuilder', 'size': 9930}]},\n",
    "        {'name': 'events',\n",
    "         'children': [\n",
    "              {'name': 'DataEvent', 'size': 2313},\n",
    "              {'name': 'SelectionEvent', 'size': 1880},\n",
    "              {'name': 'TooltipEvent', 'size': 1701},\n",
    "              {'name': 'VisualizationEvent', 'size': 1117}]},\n",
    "        {'name': 'legend',\n",
    "         'children': [\n",
    "              {'name': 'Legend', 'size': 20859},\n",
    "              {'name': 'LegendItem', 'size': 4614},\n",
    "              {'name': 'LegendRange', 'size': 10530}]},\n",
    "        {'name': 'operator',\n",
    "         'children': [\n",
    "              {'name': 'distortion',\n",
    "               'children': [\n",
    "                   {'name': 'BifocalDistortion', 'size': 4461},\n",
    "                   {'name': 'Distortion', 'size': 6314},\n",
    "                   {'name': 'FisheyeDistortion', 'size': 3444}]},\n",
    "              {'name': 'encoder',\n",
    "               'children': [\n",
    "                   {'name': 'ColorEncoder', 'size': 3179},\n",
    "                   {'name': 'Encoder', 'size': 4060},\n",
    "                   {'name': 'PropertyEncoder', 'size': 4138},\n",
    "                   {'name': 'ShapeEncoder', 'size': 1690},\n",
    "                   {'name': 'SizeEncoder', 'size': 1830}]},\n",
    "              {'name': 'filter',\n",
    "               'children': [\n",
    "                   {'name': 'FisheyeTreeFilter', 'size': 5219},\n",
    "                   {'name': 'GraphDistanceFilter', 'size': 3165},\n",
    "                   {'name': 'VisibilityFilter', 'size': 3509}]},\n",
    "              {'name': 'IOperator', 'size': 1286},\n",
    "              {'name': 'label',\n",
    "               'children': [\n",
    "                   {'name': 'Labeler', 'size': 9956},\n",
    "                   {'name': 'RadialLabeler', 'size': 3899},\n",
    "                   {'name': 'StackedAreaLabeler', 'size': 3202}]},\n",
    "              {'name': 'layout',\n",
    "               'children': [\n",
    "                   {'name': 'AxisLayout', 'size': 6725},\n",
    "                   {'name': 'BundledEdgeRouter', 'size': 3727},\n",
    "                   {'name': 'CircleLayout', 'size': 9317},\n",
    "                   {'name': 'CirclePackingLayout', 'size': 12003},\n",
    "                   {'name': 'DendrogramLayout', 'size': 4853},\n",
    "                   {'name': 'ForceDirectedLayout', 'size': 8411},\n",
    "                   {'name': 'IcicleTreeLayout', 'size': 4864},\n",
    "                   {'name': 'IndentedTreeLayout', 'size': 3174},\n",
    "                   {'name': 'Layout', 'size': 7881},\n",
    "                   {'name': 'NodeLinkTreeLayout', 'size': 12870},\n",
    "                   {'name': 'PieLayout', 'size': 2728},\n",
    "                   {'name': 'RadialTreeLayout', 'size': 12348},\n",
    "                   {'name': 'RandomLayout', 'size': 870},\n",
    "                   {'name': 'StackedAreaLayout', 'size': 9121},\n",
    "                   {'name': 'TreeMapLayout', 'size': 9191}]},\n",
    "             {'name': 'Operator', 'size': 2490},\n",
    "             {'name': 'OperatorList', 'size': 5248},\n",
    "             {'name': 'OperatorSequence', 'size': 4190},\n",
    "             {'name': 'OperatorSwitch', 'size': 2581},\n",
    "             {'name': 'SortOperator', 'size': 2023}]},\n",
    "        {'name': 'Visualization', 'size': 16540}]}"
   ]
  },
  {
   "cell_type": "code",
   "execution_count": 4,
   "metadata": {},
   "outputs": [
    {
     "data": {
      "application/javascript": [
       "require.config({paths: {d3: 'd3.v5.min'}});"
      ],
      "text/plain": [
       "<IPython.core.display.Javascript object>"
      ]
     },
     "metadata": {},
     "output_type": "display_data"
    },
    {
     "data": {
      "application/javascript": [
       "// First undefine 'treemap' so we can easily reload this file.\n",
       "require.undef('treemap');\n",
       "\n",
       "define('treemap', ['d3'], function (d3) {\n",
       "\n",
       "\n",
       "    /**\n",
       "     * Generates a GUID string.\n",
       "     * @returns {String} The generated GUID.\n",
       "     * @example af8a8416-6e18-a307-bd9c-f2c947bbb3aa\n",
       "     * @author Slavik Meltser (slavik@meltser.info).\n",
       "     * @link http://slavik.meltser.info/?p=142\n",
       "     */\n",
       "    function guid() {\n",
       "        function _p8(s) {\n",
       "            var p = (Math.random().toString(16)+\"000000000\").substr(2,8);\n",
       "            return s ? \"-\" + p.substr(0,4) + \"-\" + p.substr(4,4) : p ;\n",
       "        }\n",
       "        return _p8() + _p8(true) + _p8(true) + _p8();\n",
       "    }\n",
       "\n",
       "\n",
       "    function draw(container, data, width, height) {\n",
       "\n",
       "        const treemap = data => d3.treemap()\n",
       "            .size([width, height])\n",
       "            .padding(1)\n",
       "            .round(true)\n",
       "            (d3.hierarchy(data)\n",
       "                .sum(d => d.size)\n",
       "                .sort((a, b) => b.height - a.height || b.value - a.value))\n",
       "\n",
       "        const format = d3.format(\",d\")\n",
       "\n",
       "        const color = d3.scaleOrdinal().range(d3.schemeCategory10)\n",
       "\n",
       "        const root = treemap(data);\n",
       "\n",
       "        const svg = d3.select(container).append(\"svg\")\n",
       "            .style(\"font\", \"9px sans-serif\")\n",
       "            .attr('width', \"100%\")\n",
       "            .attr('height', height);\n",
       "\n",
       "        const leaf = svg.selectAll(\"g\")\n",
       "            .data(root.leaves())\n",
       "            .enter().append(\"g\")\n",
       "                .attr(\"transform\", d => `translate(${d.x0},${d.y0})`);\n",
       "\n",
       "        leaf.append(\"title\")\n",
       "            .text(d => `${d.ancestors().reverse().map(d => d.data.name).join(\"/\")}\\n${format(d.value)}`);\n",
       "\n",
       "        leaf.append(\"rect\")\n",
       "            .attr(\"id\", d => (d.leafUid = \"leaf\" + guid()).id)\n",
       "            .attr(\"fill\", d => { while (d.depth > 1) d = d.parent; return color(d.data.name); })\n",
       "            .attr(\"fill-opacity\", 0.6)\n",
       "            .attr(\"width\", d => d.x1 - d.x0)\n",
       "            .attr(\"height\", d => d.y1 - d.y0);\n",
       "\n",
       "        leaf.append(\"clipPath\")\n",
       "            .attr(\"id\", d => (d.clipUid = \"clip\" + guid()).id)\n",
       "            .append(\"use\")\n",
       "                .attr(\"xlink:href\", d => d.leafUid.href);\n",
       "\n",
       "        leaf.append(\"text\")\n",
       "            .attr(\"clip-path\", d => d.clipUid)\n",
       "            .selectAll(\"tspan\")\n",
       "                .data(d => d.data.name.split(/(?=[A-Z][^A-Z])/g).concat(format(d.value)))\n",
       "                .enter().append(\"tspan\")\n",
       "                    .attr(\"x\", 3)\n",
       "                    .attr(\"y\", (d, i, nodes) => `${(i === nodes.length - 1) * 0.3 + 1.1 + i * 0.9}em`)\n",
       "                    .attr(\"fill-opacity\", (d, i, nodes) => i === nodes.length - 1 ? 0.7 : null)\n",
       "                    .text(d => d);\n",
       "\n",
       "    }\n",
       "    return draw;\n",
       "});\n",
       "\n",
       "element.append('<small>&#x25C9; &#x25CB; &#x25EF; Loaded treemap.js &#x25CC; &#x25CE; &#x25CF;</small>');\n"
      ],
      "text/plain": [
       "<IPython.core.display.Javascript object>"
      ]
     },
     "metadata": {},
     "output_type": "display_data"
    },
    {
     "data": {
      "text/html": [
       "<style>\n",
       "</style>\n"
      ],
      "text/plain": [
       "<IPython.core.display.HTML object>"
      ]
     },
     "metadata": {},
     "output_type": "display_data"
    }
   ],
   "source": [
    "display(Javascript(\"require.config({paths: {d3: 'd3.v5.min'}});\"))\n",
    "display(Javascript(filename=\"treemap.js\"))\n",
    "display(HTML(filename=\"treemap.css.html\"))"
   ]
  },
  {
   "cell_type": "code",
   "execution_count": 5,
   "metadata": {},
   "outputs": [],
   "source": [
    "def draw_treemap(data, width=500, height=500):\n",
    "    display(Javascript(\"\"\"\n",
    "        (function(element){\n",
    "            require(['treemap'], function(treemap) {\n",
    "                treemap(element.get(0), %s, %d, %d);\n",
    "            });\n",
    "        })(element);\n",
    "    \"\"\" % (json.dumps(data), width, height)))"
   ]
  },
  {
   "cell_type": "code",
   "execution_count": 6,
   "metadata": {},
   "outputs": [
    {
     "data": {
      "application/javascript": [
       "\n",
       "        (function(element){\n",
       "            require(['treemap'], function(treemap) {\n",
       "                treemap(element.get(0), {\"name\": \"vis\", \"children\": [{\"name\": \"axis\", \"children\": [{\"name\": \"Axes\", \"size\": 1302}, {\"name\": \"Axis\", \"size\": 24593}, {\"name\": \"AxisGridLine\", \"size\": 652}, {\"name\": \"AxisLabel\", \"size\": 636}, {\"name\": \"CartesianAxes\", \"size\": 6703}]}, {\"name\": \"controls\", \"children\": [{\"name\": \"AnchorControl\", \"size\": 2138}, {\"name\": \"ClickControl\", \"size\": 3824}, {\"name\": \"Control\", \"size\": 1353}, {\"name\": \"ControlList\", \"size\": 4665}, {\"name\": \"DragControl\", \"size\": 2649}, {\"name\": \"ExpandControl\", \"size\": 2832}, {\"name\": \"HoverControl\", \"size\": 4896}, {\"name\": \"IControl\", \"size\": 763}, {\"name\": \"PanZoomControl\", \"size\": 5222}, {\"name\": \"SelectionControl\", \"size\": 7862}, {\"name\": \"TooltipControl\", \"size\": 8435}]}, {\"name\": \"data\", \"children\": [{\"name\": \"Data\", \"size\": 20544}, {\"name\": \"DataList\", \"size\": 19788}, {\"name\": \"DataSprite\", \"size\": 10349}, {\"name\": \"EdgeSprite\", \"size\": 3301}, {\"name\": \"NodeSprite\", \"size\": 19382}, {\"name\": \"render\", \"children\": [{\"name\": \"ArrowType\", \"size\": 698}, {\"name\": \"EdgeRenderer\", \"size\": 5569}, {\"name\": \"IRenderer\", \"size\": 353}, {\"name\": \"ShapeRenderer\", \"size\": 2247}]}, {\"name\": \"ScaleBinding\", \"size\": 11275}, {\"name\": \"Tree\", \"size\": 7147}, {\"name\": \"TreeBuilder\", \"size\": 9930}]}, {\"name\": \"events\", \"children\": [{\"name\": \"DataEvent\", \"size\": 2313}, {\"name\": \"SelectionEvent\", \"size\": 1880}, {\"name\": \"TooltipEvent\", \"size\": 1701}, {\"name\": \"VisualizationEvent\", \"size\": 1117}]}, {\"name\": \"legend\", \"children\": [{\"name\": \"Legend\", \"size\": 20859}, {\"name\": \"LegendItem\", \"size\": 4614}, {\"name\": \"LegendRange\", \"size\": 10530}]}, {\"name\": \"operator\", \"children\": [{\"name\": \"distortion\", \"children\": [{\"name\": \"BifocalDistortion\", \"size\": 4461}, {\"name\": \"Distortion\", \"size\": 6314}, {\"name\": \"FisheyeDistortion\", \"size\": 3444}]}, {\"name\": \"encoder\", \"children\": [{\"name\": \"ColorEncoder\", \"size\": 3179}, {\"name\": \"Encoder\", \"size\": 4060}, {\"name\": \"PropertyEncoder\", \"size\": 4138}, {\"name\": \"ShapeEncoder\", \"size\": 1690}, {\"name\": \"SizeEncoder\", \"size\": 1830}]}, {\"name\": \"filter\", \"children\": [{\"name\": \"FisheyeTreeFilter\", \"size\": 5219}, {\"name\": \"GraphDistanceFilter\", \"size\": 3165}, {\"name\": \"VisibilityFilter\", \"size\": 3509}]}, {\"name\": \"IOperator\", \"size\": 1286}, {\"name\": \"label\", \"children\": [{\"name\": \"Labeler\", \"size\": 9956}, {\"name\": \"RadialLabeler\", \"size\": 3899}, {\"name\": \"StackedAreaLabeler\", \"size\": 3202}]}, {\"name\": \"layout\", \"children\": [{\"name\": \"AxisLayout\", \"size\": 6725}, {\"name\": \"BundledEdgeRouter\", \"size\": 3727}, {\"name\": \"CircleLayout\", \"size\": 9317}, {\"name\": \"CirclePackingLayout\", \"size\": 12003}, {\"name\": \"DendrogramLayout\", \"size\": 4853}, {\"name\": \"ForceDirectedLayout\", \"size\": 8411}, {\"name\": \"IcicleTreeLayout\", \"size\": 4864}, {\"name\": \"IndentedTreeLayout\", \"size\": 3174}, {\"name\": \"Layout\", \"size\": 7881}, {\"name\": \"NodeLinkTreeLayout\", \"size\": 12870}, {\"name\": \"PieLayout\", \"size\": 2728}, {\"name\": \"RadialTreeLayout\", \"size\": 12348}, {\"name\": \"RandomLayout\", \"size\": 870}, {\"name\": \"StackedAreaLayout\", \"size\": 9121}, {\"name\": \"TreeMapLayout\", \"size\": 9191}]}, {\"name\": \"Operator\", \"size\": 2490}, {\"name\": \"OperatorList\", \"size\": 5248}, {\"name\": \"OperatorSequence\", \"size\": 4190}, {\"name\": \"OperatorSwitch\", \"size\": 2581}, {\"name\": \"SortOperator\", \"size\": 2023}]}, {\"name\": \"Visualization\", \"size\": 16540}]}, 960, 1200);\n",
       "            });\n",
       "        })(element);\n",
       "    "
      ],
      "text/plain": [
       "<IPython.core.display.Javascript object>"
      ]
     },
     "metadata": {},
     "output_type": "display_data"
    }
   ],
   "source": [
    "draw_treemap(data, width=width, height=height)"
   ]
  }
 ],
 "metadata": {
  "kernelspec": {
   "display_name": "Python 3",
   "language": "python",
   "name": "python3"
  },
  "language_info": {
   "codemirror_mode": {
    "name": "ipython",
    "version": 3
   },
   "file_extension": ".py",
   "mimetype": "text/x-python",
   "name": "python",
   "nbconvert_exporter": "python",
   "pygments_lexer": "ipython3",
   "version": "3.6.6"
  }
 },
 "nbformat": 4,
 "nbformat_minor": 2
}
