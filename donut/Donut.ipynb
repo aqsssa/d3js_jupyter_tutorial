{
 "cells": [
  {
   "cell_type": "code",
   "execution_count": 1,
   "metadata": {},
   "outputs": [],
   "source": [
    "from IPython.display import display, Javascript, HTML\n",
    "import json"
   ]
  },
  {
   "cell_type": "code",
   "execution_count": 2,
   "metadata": {},
   "outputs": [
    {
     "data": {
      "application/javascript": [
       "require.config({paths: {d3: 'd3.v5.min'}});"
      ],
      "text/plain": [
       "<IPython.core.display.Javascript object>"
      ]
     },
     "metadata": {},
     "output_type": "display_data"
    },
    {
     "data": {
      "application/javascript": [
       "// First undefine 'circles' so we can easily reload this file.\n",
       "require.undef('donut');\n",
       "\n",
       "define('donut', ['d3'], function (d3) {\n",
       "\n",
       "    function draw(container, data, width, height) {\n",
       "\n",
       "        var dataset = data\n",
       "\n",
       "        var pie=d3.pie()\n",
       "            .value(function(d){return d.percent})\n",
       "            .sort(null)\n",
       "            .padAngle(.03);\n",
       "\n",
       "        var w=width, h=height;\n",
       "        var outerRadius=w/2;\n",
       "        var innerRadius=100;\n",
       "        var color = d3.scaleOrdinal(d3.schemeCategory10);\n",
       " \n",
       "        var arc=d3.arc()\n",
       "            .outerRadius(outerRadius)\n",
       "            .innerRadius(innerRadius);\n",
       "\n",
       "        var svg = d3.select(container).append('svg')\n",
       "            .attr('width', w)\n",
       "            .attr('height', h)\n",
       "            .attr('class', 'shadow')\n",
       "            .append('g')\n",
       "            .attr('transform', 'translate('+w/2+','+h/2+')');\n",
       "\n",
       "        var path=svg.selectAll('donut')\n",
       "            .data(pie(dataset))\n",
       "            .enter()\n",
       "            .append('path')\n",
       "            .attr('d', arc)\n",
       "            .attr('fill', function(d,i){return color(d.data.name);});\n",
       " \n",
       "        path.transition()\n",
       "            .duration(1000)\n",
       "            .attrTween('d', function(d) {\n",
       "                var interpolate = d3.interpolate({startAngle: 0, endAngle: 0}, d);\n",
       "                return function(t) {\n",
       "                    return arc(interpolate(t));\n",
       "                };\n",
       "            });\n",
       " \n",
       " \n",
       "        var restOfTheData=function(){\n",
       "\n",
       "            var text=svg.selectAll('text')\n",
       "                .data(pie(dataset))\n",
       "                .enter()\n",
       "                .append(\"text\")\n",
       "                .transition()\n",
       "                .duration(200)\n",
       "                .attr(\"transform\", function (d) {\n",
       "                     return \"translate(\" + arc.centroid(d) + \")\";\n",
       "                })\n",
       "                .attr(\"dy\", \".4em\")\n",
       "                .attr(\"text-anchor\", \"middle\")\n",
       "                .text(function(d){\n",
       "                    return d.data.percent+\"%\";\n",
       "                })\n",
       "\t        .style('fill', '#fff')\n",
       "                .style('font-size', '10px');\n",
       " \n",
       "            var legendRectSize=20;\n",
       "            var legendSpacing=7;\n",
       "            var legendHeight=legendRectSize+legendSpacing;\n",
       " \n",
       "            var legend=svg.selectAll('.legend')\n",
       "                .data(color.domain())\n",
       "                .enter()\n",
       "                .append('g')\n",
       "                .attr('class', 'legend')\n",
       "                .attr(\n",
       "                    'transform', function(d,i){\n",
       "                        //Just a calculation for x & y position\n",
       "                        return 'translate(-35,' + ((i*legendHeight)-65) + ')';\n",
       "                });\n",
       "\n",
       "            legend.append('rect')\n",
       "                .attr('width', legendRectSize)\n",
       "                .attr('height', legendRectSize)\n",
       "                .attr('rx', 20)\n",
       "                .attr('ry', 20)\n",
       "                .style('fill', color)\n",
       "                .style('stroke', color);\n",
       " \n",
       "            legend.append('text')\n",
       "                .attr('x', 30)\n",
       "                .attr('y', 15)\n",
       "                .text(function(d){\n",
       "                    return d;\n",
       "                }).style('fill', '#929DAF')\n",
       "                .style('font-size', '14px');\n",
       "        };\n",
       " \n",
       "        setTimeout(restOfTheData,1000);\n",
       "\n",
       "    }\n",
       "    return draw;\n",
       "});\n",
       "\n",
       "element.append('<small>&#x25C9; &#x25CB; &#x25EF; Loaded donut.js &#x25CC; &#x25CE; &#x25CF;</small>');\n"
      ],
      "text/plain": [
       "<IPython.core.display.Javascript object>"
      ]
     },
     "metadata": {},
     "output_type": "display_data"
    },
    {
     "data": {
      "text/html": [
       "<style>\n",
       "body {\n",
       "    background-color: #1B1F2A;\n",
       "    width: 100%;\n",
       "    font-family: 'Roboto', sans-serif;\n",
       "    height: 100%;\n",
       "}\n",
       " \n",
       ".widget {\n",
       "    margin: 0 auto;\n",
       "    width:350px;\n",
       "    margin-top:50px;\n",
       "    background-color: #222D3A;\n",
       "    border-radius: 5px;\n",
       "    box-shadow: 0px 0px 1px 0px #06060d;\n",
       " \n",
       "}\n",
       " \n",
       ".header{\n",
       "    background-color: #29384D;\n",
       "    height:40px;\n",
       "    color:#929DAF;\n",
       "    text-align: center;\n",
       "    line-height: 40px;\n",
       "    border-top-left-radius: 7px;\n",
       "    border-top-right-radius: 7px;\n",
       "    font-weight: 400;\n",
       "    font-size: 1.5em;\n",
       "    text-shadow: 1px 1px #06060d;\n",
       "}\n",
       " \n",
       ".chart-container{\n",
       "    padding:25px;\n",
       "}\n",
       " \n",
       ".shadow {\n",
       "    -webkit-filter: drop-shadow( 0px 3px 3px rgba(0,0,0,.5) );\n",
       "    filter: drop-shadow( 0px 3px 3px rgba(0,0,0,.5) );\n",
       "}\n",
       "</style>\n"
      ],
      "text/plain": [
       "<IPython.core.display.HTML object>"
      ]
     },
     "metadata": {},
     "output_type": "display_data"
    }
   ],
   "source": [
    "display(Javascript(\"require.config({paths: {d3: 'd3.v5.min'}});\"))\n",
    "display(Javascript(filename=\"donut.js\"))\n",
    "display(HTML(filename=\"donut.css.html\"))"
   ]
  },
  {
   "cell_type": "code",
   "execution_count": 3,
   "metadata": {},
   "outputs": [],
   "source": [
    "def draw_donut(data, width=400, height=400):\n",
    "    display(Javascript(\"\"\"\n",
    "        (function(element){\n",
    "            require(['donut'], function(donut) {\n",
    "                donut(element.get(0), %s, %d, %d);\n",
    "            });\n",
    "        })(element);\n",
    "    \"\"\" % (json.dumps(data), width, height)))"
   ]
  },
  {
   "cell_type": "code",
   "execution_count": 4,
   "metadata": {},
   "outputs": [
    {
     "data": {
      "application/javascript": [
       "\n",
       "        (function(element){\n",
       "            require(['donut'], function(donut) {\n",
       "                donut(element.get(0), [{\"name\": \"IE\", \"percent\": 39.1}, {\"name\": \"Chrome\", \"percent\": 32.51}, {\"name\": \"Safari\", \"percent\": 13.68}, {\"name\": \"Firefox\", \"percent\": 8.71}, {\"name\": \"Others\", \"percent\": 6.01}], 300, 300);\n",
       "            });\n",
       "        })(element);\n",
       "    "
      ],
      "text/plain": [
       "<IPython.core.display.Javascript object>"
      ]
     },
     "metadata": {},
     "output_type": "display_data"
    }
   ],
   "source": [
    "data = [\n",
    "    { 'name': 'IE', 'percent': 39.10 },\n",
    "    { 'name': 'Chrome', 'percent': 32.51 },\n",
    "    { 'name': 'Safari', 'percent': 13.68 },\n",
    "    { 'name': 'Firefox', 'percent': 8.71 },\n",
    "    { 'name': 'Others', 'percent': 6.01 }\n",
    "];\n",
    "\n",
    "draw_donut(data, width=300, height=300)"
   ]
  }
 ],
 "metadata": {
  "kernelspec": {
   "display_name": "Python 3",
   "language": "python",
   "name": "python3"
  },
  "language_info": {
   "codemirror_mode": {
    "name": "ipython",
    "version": 3
   },
   "file_extension": ".py",
   "mimetype": "text/x-python",
   "name": "python",
   "nbconvert_exporter": "python",
   "pygments_lexer": "ipython3",
   "version": "3.6.6"
  }
 },
 "nbformat": 4,
 "nbformat_minor": 2
}
